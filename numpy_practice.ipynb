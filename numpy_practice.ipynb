{
 "cells": [
  {
   "cell_type": "code",
   "execution_count": 42,
   "id": "30bccd66-3604-4496-8601-ae385d61fb2f",
   "metadata": {},
   "outputs": [],
   "source": [
    "import numpy as np"
   ]
  },
  {
   "cell_type": "code",
   "execution_count": 43,
   "id": "74e06860-7313-4357-a16d-5e0127ef4faf",
   "metadata": {},
   "outputs": [],
   "source": [
    "mylist = [[1,2,3],[4,5,6],[7,8,9]]"
   ]
  },
  {
   "cell_type": "code",
   "execution_count": 44,
   "id": "b6e703d3-5896-4f65-881a-4fe5b1975c18",
   "metadata": {},
   "outputs": [],
   "source": [
    "myMatrix = np.array(mylist)"
   ]
  },
  {
   "cell_type": "code",
   "execution_count": 45,
   "id": "0bf72e92-f24c-462f-8102-77812eade88e",
   "metadata": {},
   "outputs": [
    {
     "data": {
      "text/plain": [
       "(3, 3)"
      ]
     },
     "execution_count": 45,
     "metadata": {},
     "output_type": "execute_result"
    }
   ],
   "source": [
    "myMatrix.shape"
   ]
  },
  {
   "cell_type": "code",
   "execution_count": 46,
   "id": "5c9e7bb9-7d82-4968-88a8-f0fe7904e6d9",
   "metadata": {},
   "outputs": [
    {
     "data": {
      "text/plain": [
       "array([0, 1, 2, 3, 4, 5, 6, 7, 8, 9])"
      ]
     },
     "execution_count": 46,
     "metadata": {},
     "output_type": "execute_result"
    }
   ],
   "source": [
    "np.arange(0,10)"
   ]
  },
  {
   "cell_type": "code",
   "execution_count": 47,
   "id": "3d64b112-f822-4d86-bf5d-dda419dc86d2",
   "metadata": {},
   "outputs": [
    {
     "data": {
      "text/plain": [
       "array([ 0,  2,  4,  6,  8, 10])"
      ]
     },
     "execution_count": 47,
     "metadata": {},
     "output_type": "execute_result"
    }
   ],
   "source": [
    "np.arange(0,11,2)"
   ]
  },
  {
   "cell_type": "code",
   "execution_count": 48,
   "id": "ea211dd8-2252-4a98-907e-12b2cc6cc09d",
   "metadata": {},
   "outputs": [
    {
     "data": {
      "text/plain": [
       "array([0., 0., 0., 0., 0.])"
      ]
     },
     "execution_count": 48,
     "metadata": {},
     "output_type": "execute_result"
    }
   ],
   "source": [
    "np.zeros(5)"
   ]
  },
  {
   "cell_type": "code",
   "execution_count": 49,
   "id": "870b069a-4544-49e4-a0ae-238e7665d572",
   "metadata": {},
   "outputs": [
    {
     "data": {
      "text/plain": [
       "array([[0., 0., 0., 0., 0., 0., 0., 0., 0., 0.],\n",
       "       [0., 0., 0., 0., 0., 0., 0., 0., 0., 0.],\n",
       "       [0., 0., 0., 0., 0., 0., 0., 0., 0., 0.],\n",
       "       [0., 0., 0., 0., 0., 0., 0., 0., 0., 0.]])"
      ]
     },
     "execution_count": 49,
     "metadata": {},
     "output_type": "execute_result"
    }
   ],
   "source": [
    "np.zeros((4,10))"
   ]
  },
  {
   "cell_type": "code",
   "execution_count": 50,
   "id": "47d82b0f-7b24-4e91-88d1-9a8b04241760",
   "metadata": {},
   "outputs": [
    {
     "data": {
      "text/plain": [
       "array([[1., 1., 1., 1., 1.],\n",
       "       [1., 1., 1., 1., 1.],\n",
       "       [1., 1., 1., 1., 1.],\n",
       "       [1., 1., 1., 1., 1.],\n",
       "       [1., 1., 1., 1., 1.]])"
      ]
     },
     "execution_count": 50,
     "metadata": {},
     "output_type": "execute_result"
    }
   ],
   "source": [
    "np.ones((5,5))"
   ]
  },
  {
   "cell_type": "code",
   "execution_count": 51,
   "id": "f0196833-1fe3-4599-ae3b-b4f01107b8af",
   "metadata": {},
   "outputs": [
    {
     "data": {
      "text/plain": [
       "array([[0.4, 0.4, 0.4, 0.4, 0.4, 0.4, 0.4, 0.4, 0.4, 0.4],\n",
       "       [0.4, 0.4, 0.4, 0.4, 0.4, 0.4, 0.4, 0.4, 0.4, 0.4],\n",
       "       [0.4, 0.4, 0.4, 0.4, 0.4, 0.4, 0.4, 0.4, 0.4, 0.4],\n",
       "       [0.4, 0.4, 0.4, 0.4, 0.4, 0.4, 0.4, 0.4, 0.4, 0.4]])"
      ]
     },
     "execution_count": 51,
     "metadata": {},
     "output_type": "execute_result"
    }
   ],
   "source": [
    "np.zeros((4,10))+10 *4/100"
   ]
  },
  {
   "cell_type": "code",
   "execution_count": 52,
   "id": "2349062a-a2f8-485e-9f78-05d5275d4780",
   "metadata": {},
   "outputs": [
    {
     "data": {
      "text/plain": [
       "array([  1.,  12.,  23.,  34.,  45.,  56.,  67.,  78.,  89., 100.])"
      ]
     },
     "execution_count": 52,
     "metadata": {},
     "output_type": "execute_result"
    }
   ],
   "source": [
    "np.linspace(1,100,10) #start, stop, numbers"
   ]
  },
  {
   "cell_type": "code",
   "execution_count": 53,
   "id": "a685d8ef-4678-45b5-868d-bc9e8e76f8cf",
   "metadata": {},
   "outputs": [
    {
     "data": {
      "text/plain": [
       "array([[1., 0., 0., 0., 0.],\n",
       "       [0., 1., 0., 0., 0.],\n",
       "       [0., 0., 1., 0., 0.],\n",
       "       [0., 0., 0., 1., 0.],\n",
       "       [0., 0., 0., 0., 1.]])"
      ]
     },
     "execution_count": 53,
     "metadata": {},
     "output_type": "execute_result"
    }
   ],
   "source": [
    "np.eye(5)"
   ]
  },
  {
   "cell_type": "code",
   "execution_count": 54,
   "id": "bbfd6c98-d4b9-4f74-90ec-9fee3f6d5af0",
   "metadata": {},
   "outputs": [
    {
     "data": {
      "text/plain": [
       "array([[12.23306321,  0.1413261 ,  0.4612485 , 10.49549321,  7.99721943],\n",
       "       [ 0.93331326, 19.47511038,  4.65542681,  1.81212869, 12.36772019],\n",
       "       [ 7.64923983, 19.66461772,  9.33525786, 17.19880813, 13.60615077],\n",
       "       [ 9.00998504,  0.26529922, 18.84403511, 11.26576436,  7.70833005]])"
      ]
     },
     "execution_count": 54,
     "metadata": {},
     "output_type": "execute_result"
    }
   ],
   "source": [
    "np.random.rand(4,5) *20"
   ]
  },
  {
   "cell_type": "code",
   "execution_count": 55,
   "id": "62a5cadf",
   "metadata": {},
   "outputs": [
    {
     "data": {
      "text/plain": [
       "array([[ 0.77919263, -1.10109776,  1.13022819,  0.37311891, -0.38647295],\n",
       "       [-1.15877024,  0.56611283, -0.70445345, -1.3779393 , -0.35311665],\n",
       "       [-0.46146572,  0.06665728, -0.17628566,  1.20089277,  0.69839894],\n",
       "       [-0.17162884, -0.90718658,  1.18862573,  0.78553212,  2.65601009],\n",
       "       [ 0.26348604,  1.64177112,  0.4608163 ,  0.08592347, -1.50995728]])"
      ]
     },
     "execution_count": 55,
     "metadata": {},
     "output_type": "execute_result"
    }
   ],
   "source": [
    "np.random.randn(5,5) #can be negetive"
   ]
  },
  {
   "cell_type": "code",
   "execution_count": 56,
   "id": "0df9629c",
   "metadata": {},
   "outputs": [
    {
     "data": {
      "text/plain": [
       "array([29, 15, 45, 65, 89, 71,  9, 88,  1,  8])"
      ]
     },
     "execution_count": 56,
     "metadata": {},
     "output_type": "execute_result"
    }
   ],
   "source": [
    "np.random.randint(1,100,10)"
   ]
  },
  {
   "cell_type": "code",
   "execution_count": 57,
   "id": "2a3dedc0",
   "metadata": {},
   "outputs": [
    {
     "data": {
      "text/plain": [
       "array([0.37454012, 0.95071431, 0.73199394, 0.59865848])"
      ]
     },
     "execution_count": 57,
     "metadata": {},
     "output_type": "execute_result"
    }
   ],
   "source": [
    "np.random.seed(42)\n",
    "np.random.rand(4)"
   ]
  },
  {
   "cell_type": "code",
   "execution_count": 58,
   "id": "d0319a46",
   "metadata": {},
   "outputs": [
    {
     "data": {
      "text/plain": [
       "array([ 0,  1,  2,  3,  4,  5,  6,  7,  8,  9, 10, 11, 12, 13, 14, 15, 16,\n",
       "       17, 18, 19, 20, 21, 22, 23, 24])"
      ]
     },
     "execution_count": 58,
     "metadata": {},
     "output_type": "execute_result"
    }
   ],
   "source": [
    "arr = np.arange(25)\n",
    "arr"
   ]
  },
  {
   "cell_type": "code",
   "execution_count": 59,
   "id": "01d30e0c",
   "metadata": {},
   "outputs": [
    {
     "data": {
      "text/plain": [
       "array([38, 18, 22, 10, 10, 23, 35, 39, 23,  2])"
      ]
     },
     "execution_count": 59,
     "metadata": {},
     "output_type": "execute_result"
    }
   ],
   "source": [
    "randArr = np.random.randint(0,50,10)\n",
    "randArr"
   ]
  },
  {
   "cell_type": "code",
   "execution_count": 60,
   "id": "b33015af",
   "metadata": {},
   "outputs": [
    {
     "data": {
      "text/plain": [
       "array([[ 0,  1,  2,  3,  4],\n",
       "       [ 5,  6,  7,  8,  9],\n",
       "       [10, 11, 12, 13, 14],\n",
       "       [15, 16, 17, 18, 19],\n",
       "       [20, 21, 22, 23, 24]])"
      ]
     },
     "execution_count": 60,
     "metadata": {},
     "output_type": "execute_result"
    }
   ],
   "source": [
    "arr.reshape(5,5)"
   ]
  },
  {
   "cell_type": "code",
   "execution_count": 61,
   "id": "134cb0c6",
   "metadata": {},
   "outputs": [
    {
     "data": {
      "text/plain": [
       "39"
      ]
     },
     "execution_count": 61,
     "metadata": {},
     "output_type": "execute_result"
    }
   ],
   "source": [
    "randArr.max()"
   ]
  },
  {
   "cell_type": "code",
   "execution_count": 62,
   "id": "4cff8635",
   "metadata": {},
   "outputs": [
    {
     "data": {
      "text/plain": [
       "2"
      ]
     },
     "execution_count": 62,
     "metadata": {},
     "output_type": "execute_result"
    }
   ],
   "source": [
    "randArr.min()"
   ]
  },
  {
   "cell_type": "code",
   "execution_count": 63,
   "id": "e8e1bb92",
   "metadata": {},
   "outputs": [
    {
     "data": {
      "text/plain": [
       "7"
      ]
     },
     "execution_count": 63,
     "metadata": {},
     "output_type": "execute_result"
    }
   ],
   "source": [
    "randArr.argmax() #index"
   ]
  },
  {
   "cell_type": "code",
   "execution_count": 64,
   "id": "2d641f1d",
   "metadata": {},
   "outputs": [
    {
     "data": {
      "text/plain": [
       "9"
      ]
     },
     "execution_count": 64,
     "metadata": {},
     "output_type": "execute_result"
    }
   ],
   "source": [
    "randArr.argmin()"
   ]
  },
  {
   "cell_type": "code",
   "execution_count": 65,
   "id": "0de707cc",
   "metadata": {},
   "outputs": [
    {
     "data": {
      "text/plain": [
       "dtype('int32')"
      ]
     },
     "execution_count": 65,
     "metadata": {},
     "output_type": "execute_result"
    }
   ],
   "source": [
    "randArr.dtype"
   ]
  },
  {
   "cell_type": "code",
   "execution_count": null,
   "id": "3bd5ac27",
   "metadata": {},
   "outputs": [],
   "source": []
  }
 ],
 "metadata": {
  "kernelspec": {
   "display_name": "Python 3 (ipykernel)",
   "language": "python",
   "name": "python3"
  },
  "language_info": {
   "codemirror_mode": {
    "name": "ipython",
    "version": 3
   },
   "file_extension": ".py",
   "mimetype": "text/x-python",
   "name": "python",
   "nbconvert_exporter": "python",
   "pygments_lexer": "ipython3",
   "version": "3.13.5"
  }
 },
 "nbformat": 4,
 "nbformat_minor": 5
}
