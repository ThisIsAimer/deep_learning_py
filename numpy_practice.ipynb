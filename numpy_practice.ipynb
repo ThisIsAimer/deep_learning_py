{
 "cells": [
  {
   "cell_type": "code",
   "execution_count": 1,
   "id": "30bccd66-3604-4496-8601-ae385d61fb2f",
   "metadata": {},
   "outputs": [],
   "source": [
    "import numpy as np"
   ]
  },
  {
   "cell_type": "code",
   "execution_count": 2,
   "id": "74e06860-7313-4357-a16d-5e0127ef4faf",
   "metadata": {},
   "outputs": [],
   "source": [
    "mylist = [[1,2,3],[4,5,6],[7,8,9]]"
   ]
  },
  {
   "cell_type": "code",
   "execution_count": 3,
   "id": "b6e703d3-5896-4f65-881a-4fe5b1975c18",
   "metadata": {},
   "outputs": [],
   "source": [
    "myMatrix = np.array(mylist)"
   ]
  },
  {
   "cell_type": "code",
   "execution_count": 4,
   "id": "0bf72e92-f24c-462f-8102-77812eade88e",
   "metadata": {},
   "outputs": [
    {
     "data": {
      "text/plain": [
       "(3, 3)"
      ]
     },
     "execution_count": 4,
     "metadata": {},
     "output_type": "execute_result"
    }
   ],
   "source": [
    "myMatrix.shape"
   ]
  },
  {
   "cell_type": "code",
   "execution_count": null,
   "id": "57307314",
   "metadata": {},
   "outputs": [],
   "source": []
  },
  {
   "cell_type": "code",
   "execution_count": 5,
   "id": "5c9e7bb9-7d82-4968-88a8-f0fe7904e6d9",
   "metadata": {},
   "outputs": [
    {
     "data": {
      "text/plain": [
       "array([0, 1, 2, 3, 4, 5, 6, 7, 8, 9])"
      ]
     },
     "execution_count": 5,
     "metadata": {},
     "output_type": "execute_result"
    }
   ],
   "source": [
    "np.arange(0,10)"
   ]
  },
  {
   "cell_type": "code",
   "execution_count": 6,
   "id": "3d64b112-f822-4d86-bf5d-dda419dc86d2",
   "metadata": {},
   "outputs": [
    {
     "data": {
      "text/plain": [
       "array([ 0,  2,  4,  6,  8, 10])"
      ]
     },
     "execution_count": 6,
     "metadata": {},
     "output_type": "execute_result"
    }
   ],
   "source": [
    "np.arange(0,11,2)"
   ]
  },
  {
   "cell_type": "code",
   "execution_count": 7,
   "id": "ea211dd8-2252-4a98-907e-12b2cc6cc09d",
   "metadata": {},
   "outputs": [
    {
     "data": {
      "text/plain": [
       "array([0., 0., 0., 0., 0.])"
      ]
     },
     "execution_count": 7,
     "metadata": {},
     "output_type": "execute_result"
    }
   ],
   "source": [
    "np.zeros(5)"
   ]
  },
  {
   "cell_type": "code",
   "execution_count": 8,
   "id": "870b069a-4544-49e4-a0ae-238e7665d572",
   "metadata": {},
   "outputs": [
    {
     "data": {
      "text/plain": [
       "array([[0., 0., 0., 0., 0., 0., 0., 0., 0., 0.],\n",
       "       [0., 0., 0., 0., 0., 0., 0., 0., 0., 0.],\n",
       "       [0., 0., 0., 0., 0., 0., 0., 0., 0., 0.],\n",
       "       [0., 0., 0., 0., 0., 0., 0., 0., 0., 0.]])"
      ]
     },
     "execution_count": 8,
     "metadata": {},
     "output_type": "execute_result"
    }
   ],
   "source": [
    "np.zeros((4,10))"
   ]
  },
  {
   "cell_type": "code",
   "execution_count": 9,
   "id": "47d82b0f-7b24-4e91-88d1-9a8b04241760",
   "metadata": {},
   "outputs": [
    {
     "data": {
      "text/plain": [
       "array([[1., 1., 1., 1., 1.],\n",
       "       [1., 1., 1., 1., 1.],\n",
       "       [1., 1., 1., 1., 1.],\n",
       "       [1., 1., 1., 1., 1.],\n",
       "       [1., 1., 1., 1., 1.]])"
      ]
     },
     "execution_count": 9,
     "metadata": {},
     "output_type": "execute_result"
    }
   ],
   "source": [
    "np.ones((5,5))"
   ]
  },
  {
   "cell_type": "code",
   "execution_count": 10,
   "id": "f0196833-1fe3-4599-ae3b-b4f01107b8af",
   "metadata": {},
   "outputs": [
    {
     "data": {
      "text/plain": [
       "array([[0.4, 0.4, 0.4, 0.4, 0.4, 0.4, 0.4, 0.4, 0.4, 0.4],\n",
       "       [0.4, 0.4, 0.4, 0.4, 0.4, 0.4, 0.4, 0.4, 0.4, 0.4],\n",
       "       [0.4, 0.4, 0.4, 0.4, 0.4, 0.4, 0.4, 0.4, 0.4, 0.4],\n",
       "       [0.4, 0.4, 0.4, 0.4, 0.4, 0.4, 0.4, 0.4, 0.4, 0.4]])"
      ]
     },
     "execution_count": 10,
     "metadata": {},
     "output_type": "execute_result"
    }
   ],
   "source": [
    "np.zeros((4,10))+10 *4/100"
   ]
  },
  {
   "cell_type": "code",
   "execution_count": 11,
   "id": "2349062a-a2f8-485e-9f78-05d5275d4780",
   "metadata": {},
   "outputs": [
    {
     "data": {
      "text/plain": [
       "array([  1.,  12.,  23.,  34.,  45.,  56.,  67.,  78.,  89., 100.])"
      ]
     },
     "execution_count": 11,
     "metadata": {},
     "output_type": "execute_result"
    }
   ],
   "source": [
    "np.linspace(1,100,10) #start, stop, numbers"
   ]
  },
  {
   "cell_type": "code",
   "execution_count": 12,
   "id": "a685d8ef-4678-45b5-868d-bc9e8e76f8cf",
   "metadata": {},
   "outputs": [
    {
     "data": {
      "text/plain": [
       "array([[1., 0., 0., 0., 0.],\n",
       "       [0., 1., 0., 0., 0.],\n",
       "       [0., 0., 1., 0., 0.],\n",
       "       [0., 0., 0., 1., 0.],\n",
       "       [0., 0., 0., 0., 1.]])"
      ]
     },
     "execution_count": 12,
     "metadata": {},
     "output_type": "execute_result"
    }
   ],
   "source": [
    "np.eye(5)"
   ]
  },
  {
   "cell_type": "code",
   "execution_count": 27,
   "id": "bbfd6c98-d4b9-4f74-90ec-9fee3f6d5af0",
   "metadata": {},
   "outputs": [
    {
     "data": {
      "text/plain": [
       "array([[11.66058005, 14.29301136,  2.33572396,  2.67042356, 14.54236306],\n",
       "       [ 5.28354118,  6.16033229, 12.54046206,  7.69808552, 16.55814798],\n",
       "       [ 6.27694783,  0.85226459,  2.73499713,  8.31696753,  6.97955278],\n",
       "       [ 4.3329298 ,  7.03746283, 10.6808156 ,  1.59864994, 18.50453561]])"
      ]
     },
     "execution_count": 27,
     "metadata": {},
     "output_type": "execute_result"
    }
   ],
   "source": [
    "np.random.rand(4,5) *20"
   ]
  },
  {
   "cell_type": "code",
   "execution_count": null,
   "id": "62a5cadf",
   "metadata": {},
   "outputs": [
    {
     "data": {
      "text/plain": [
       "array([[ 1.18489181, -0.41703913, -1.1244383 ,  0.28851892, -0.53620304],\n",
       "       [-0.04162606,  1.30352781,  1.59486057,  0.65912569, -0.01372979],\n",
       "       [-1.13124247,  1.75511911, -0.23922429, -2.14363858,  0.47013691],\n",
       "       [ 1.05337426,  0.48943457,  0.47951605, -0.88655446, -1.62591807],\n",
       "       [ 2.40805566, -0.12991687,  0.02417771,  1.03721327, -0.08183366]])"
      ]
     },
     "execution_count": 25,
     "metadata": {},
     "output_type": "execute_result"
    }
   ],
   "source": [
    "np.random.randn(5,5) #can be negetive"
   ]
  },
  {
   "cell_type": "code",
   "execution_count": 28,
   "id": "0df9629c",
   "metadata": {},
   "outputs": [
    {
     "data": {
      "text/plain": [
       "array([ 4, 20, 80, 41, 54, 45, 87,  9, 51, 69])"
      ]
     },
     "execution_count": 28,
     "metadata": {},
     "output_type": "execute_result"
    }
   ],
   "source": [
    "np.random.randint(1,100,10)"
   ]
  },
  {
   "cell_type": "code",
   "execution_count": 31,
   "id": "2a3dedc0",
   "metadata": {},
   "outputs": [
    {
     "data": {
      "text/plain": [
       "array([0.37454012, 0.95071431, 0.73199394, 0.59865848])"
      ]
     },
     "execution_count": 31,
     "metadata": {},
     "output_type": "execute_result"
    }
   ],
   "source": [
    "np.random.seed(42)\n",
    "np.random.rand(4)"
   ]
  },
  {
   "cell_type": "code",
   "execution_count": 32,
   "id": "d0319a46",
   "metadata": {},
   "outputs": [
    {
     "data": {
      "text/plain": [
       "array([ 0,  1,  2,  3,  4,  5,  6,  7,  8,  9, 10, 11, 12, 13, 14, 15, 16,\n",
       "       17, 18, 19, 20, 21, 22, 23, 24])"
      ]
     },
     "execution_count": 32,
     "metadata": {},
     "output_type": "execute_result"
    }
   ],
   "source": [
    "arr = np.arange(25)\n",
    "arr"
   ]
  },
  {
   "cell_type": "code",
   "execution_count": 34,
   "id": "01d30e0c",
   "metadata": {},
   "outputs": [
    {
     "data": {
      "text/plain": [
       "array([21,  1, 23, 43, 29, 37,  1, 20, 32, 11])"
      ]
     },
     "execution_count": 34,
     "metadata": {},
     "output_type": "execute_result"
    }
   ],
   "source": [
    "randArr = np.random.randint(0,50,10)\n",
    "randArr"
   ]
  },
  {
   "cell_type": "code",
   "execution_count": 35,
   "id": "b33015af",
   "metadata": {},
   "outputs": [
    {
     "data": {
      "text/plain": [
       "array([[ 0,  1,  2,  3,  4],\n",
       "       [ 5,  6,  7,  8,  9],\n",
       "       [10, 11, 12, 13, 14],\n",
       "       [15, 16, 17, 18, 19],\n",
       "       [20, 21, 22, 23, 24]])"
      ]
     },
     "execution_count": 35,
     "metadata": {},
     "output_type": "execute_result"
    }
   ],
   "source": [
    "arr.reshape(5,5)"
   ]
  },
  {
   "cell_type": "code",
   "execution_count": 36,
   "id": "134cb0c6",
   "metadata": {},
   "outputs": [
    {
     "data": {
      "text/plain": [
       "43"
      ]
     },
     "execution_count": 36,
     "metadata": {},
     "output_type": "execute_result"
    }
   ],
   "source": [
    "randArr.max()"
   ]
  },
  {
   "cell_type": "code",
   "execution_count": 37,
   "id": "4cff8635",
   "metadata": {},
   "outputs": [
    {
     "data": {
      "text/plain": [
       "1"
      ]
     },
     "execution_count": 37,
     "metadata": {},
     "output_type": "execute_result"
    }
   ],
   "source": [
    "randArr.min()"
   ]
  },
  {
   "cell_type": "code",
   "execution_count": 38,
   "id": "e8e1bb92",
   "metadata": {},
   "outputs": [
    {
     "data": {
      "text/plain": [
       "3"
      ]
     },
     "execution_count": 38,
     "metadata": {},
     "output_type": "execute_result"
    }
   ],
   "source": [
    "randArr.argmax() #index"
   ]
  },
  {
   "cell_type": "code",
   "execution_count": 39,
   "id": "2d641f1d",
   "metadata": {},
   "outputs": [
    {
     "data": {
      "text/plain": [
       "1"
      ]
     },
     "execution_count": 39,
     "metadata": {},
     "output_type": "execute_result"
    }
   ],
   "source": [
    "randArr.argmin()"
   ]
  },
  {
   "cell_type": "code",
   "execution_count": 41,
   "id": "0de707cc",
   "metadata": {},
   "outputs": [
    {
     "data": {
      "text/plain": [
       "dtype('int32')"
      ]
     },
     "execution_count": 41,
     "metadata": {},
     "output_type": "execute_result"
    }
   ],
   "source": [
    "randArr.dtype"
   ]
  },
  {
   "cell_type": "code",
   "execution_count": null,
   "id": "3bd5ac27",
   "metadata": {},
   "outputs": [],
   "source": []
  }
 ],
 "metadata": {
  "kernelspec": {
   "display_name": "Python 3 (ipykernel)",
   "language": "python",
   "name": "python3"
  },
  "language_info": {
   "codemirror_mode": {
    "name": "ipython",
    "version": 3
   },
   "file_extension": ".py",
   "mimetype": "text/x-python",
   "name": "python",
   "nbconvert_exporter": "python",
   "pygments_lexer": "ipython3",
   "version": "3.13.5"
  }
 },
 "nbformat": 4,
 "nbformat_minor": 5
}
